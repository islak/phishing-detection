{
  "nbformat": 4,
  "nbformat_minor": 0,
  "metadata": {
    "colab": {
      "provenance": [],
      "authorship_tag": "ABX9TyM9iFZJAoqveFrIPcGjMMDI"
    },
    "kernelspec": {
      "name": "python3",
      "display_name": "Python 3"
    },
    "language_info": {
      "name": "python"
    }
  },
  "cells": [
    {
      "cell_type": "code",
      "source": [
        "!pip install kaggle"
      ],
      "metadata": {
        "colab": {
          "base_uri": "https://localhost:8080/"
        },
        "id": "7IYz6vgLaGi-",
        "outputId": "6e88feee-67bf-460f-dd4d-f62e6722bc94"
      },
      "execution_count": null,
      "outputs": [
        {
          "output_type": "stream",
          "name": "stdout",
          "text": [
            "Requirement already satisfied: kaggle in /usr/local/lib/python3.10/dist-packages (1.6.17)\n",
            "Requirement already satisfied: six>=1.10 in /usr/local/lib/python3.10/dist-packages (from kaggle) (1.16.0)\n",
            "Requirement already satisfied: certifi>=2023.7.22 in /usr/local/lib/python3.10/dist-packages (from kaggle) (2024.8.30)\n",
            "Requirement already satisfied: python-dateutil in /usr/local/lib/python3.10/dist-packages (from kaggle) (2.8.2)\n",
            "Requirement already satisfied: requests in /usr/local/lib/python3.10/dist-packages (from kaggle) (2.32.3)\n",
            "Requirement already satisfied: tqdm in /usr/local/lib/python3.10/dist-packages (from kaggle) (4.66.5)\n",
            "Requirement already satisfied: python-slugify in /usr/local/lib/python3.10/dist-packages (from kaggle) (8.0.4)\n",
            "Requirement already satisfied: urllib3 in /usr/local/lib/python3.10/dist-packages (from kaggle) (2.0.7)\n",
            "Requirement already satisfied: bleach in /usr/local/lib/python3.10/dist-packages (from kaggle) (6.1.0)\n",
            "Requirement already satisfied: webencodings in /usr/local/lib/python3.10/dist-packages (from bleach->kaggle) (0.5.1)\n",
            "Requirement already satisfied: text-unidecode>=1.3 in /usr/local/lib/python3.10/dist-packages (from python-slugify->kaggle) (1.3)\n",
            "Requirement already satisfied: charset-normalizer<4,>=2 in /usr/local/lib/python3.10/dist-packages (from requests->kaggle) (3.3.2)\n",
            "Requirement already satisfied: idna<4,>=2.5 in /usr/local/lib/python3.10/dist-packages (from requests->kaggle) (3.8)\n"
          ]
        }
      ]
    },
    {
      "cell_type": "code",
      "source": [
        "from google.colab import files\n",
        "files.upload()"
      ],
      "metadata": {
        "collapsed": true,
        "id": "8JkTPrX8aKv_"
      },
      "execution_count": null,
      "outputs": []
    },
    {
      "cell_type": "code",
      "source": [
        "import os\n",
        "import pandas as pd\n",
        "\n",
        "!mkdir -p ~/.kaggle\n",
        "!cp kaggle.json ~/.kaggle/\n",
        "!chmod 600 ~/.kaggle/kaggle.json\n",
        "\n",
        "!kaggle datasets download -d sergioagudelo/phishing-url-detection\n",
        "!ls"
      ],
      "metadata": {
        "colab": {
          "base_uri": "https://localhost:8080/"
        },
        "id": "sfobdWk6aueY",
        "outputId": "736c5303-8150-4769-a9fa-873e62e86da1"
      },
      "execution_count": null,
      "outputs": [
        {
          "output_type": "stream",
          "name": "stdout",
          "text": [
            "Dataset URL: https://www.kaggle.com/datasets/sergioagudelo/phishing-url-detection\n",
            "License(s): MIT\n",
            "phishing-url-detection.zip: Skipping, found more recently modified local copy (use --force to force download)\n",
            "kaggle.json  out.csv  phishing-url-detection.zip  sample_data\n"
          ]
        }
      ]
    },
    {
      "cell_type": "code",
      "source": [
        "!unzip phishing-url-detection.zip"
      ],
      "metadata": {
        "colab": {
          "base_uri": "https://localhost:8080/"
        },
        "id": "koMGpnSrcCPv",
        "outputId": "f5147640-1c93-4c53-94ef-904311a3773d"
      },
      "execution_count": null,
      "outputs": [
        {
          "output_type": "stream",
          "name": "stdout",
          "text": [
            "Archive:  phishing-url-detection.zip\n",
            "replace out.csv? [y]es, [n]o, [A]ll, [N]one, [r]ename: y\n",
            "  inflating: out.csv                 \n"
          ]
        }
      ]
    },
    {
      "cell_type": "code",
      "source": [
        "import pandas as pd\n",
        "\n",
        "df = pd.read_csv('out.csv')\n",
        "print(df.head())"
      ],
      "metadata": {
        "colab": {
          "base_uri": "https://localhost:8080/"
        },
        "id": "RZXAtK_3cQgO",
        "outputId": "6103cd14-3a4a-44cb-f0a7-a25e7461d3f3"
      },
      "execution_count": null,
      "outputs": [
        {
          "output_type": "stream",
          "name": "stdout",
          "text": [
            "                                             url          source       label  \\\n",
            "0  apaceast.cloudguest.central.arubanetworks.com  Cisco-Umbrella  legitimate   \n",
            "1                              quintadonoval.com        Majestic  legitimate   \n",
            "2                               nomadfactory.com        Majestic  legitimate   \n",
            "3                               tvarenasport.com        Majestic  legitimate   \n",
            "4                    widget.cluster.groovehq.com  Cisco-Umbrella  legitimate   \n",
            "\n",
            "   url_length  starts_with_ip  url_entropy  has_punycode  digit_letter_ratio  \\\n",
            "0          45           False     3.924535         False                 0.0   \n",
            "1          17           False     3.572469         False                 0.0   \n",
            "2          16           False     3.327820         False                 0.0   \n",
            "3          16           False     3.500000         False                 0.0   \n",
            "4          27           False     3.930270         False                 0.0   \n",
            "\n",
            "   dot_count  at_count  dash_count  tld_count  domain_has_digits  \\\n",
            "0          4         0           0          0              False   \n",
            "1          1         0           0          0              False   \n",
            "2          1         0           0          0              False   \n",
            "3          1         0           0          0              False   \n",
            "4          3         0           0          0              False   \n",
            "\n",
            "   subdomain_count  nan_char_entropy  has_internal_links  \\\n",
            "0                3          0.310387               False   \n",
            "1                0          0.240439               False   \n",
            "2                0          0.250000               False   \n",
            "3                0          0.250000               False   \n",
            "4                2          0.352214               False   \n",
            "\n",
            "                                          whois_data  domain_age_days  \n",
            "0  {'domain_name': ['ARUBANETWORKS.COM', 'arubane...           8250.0  \n",
            "1  {'domain_name': ['QUINTADONOVAL.COM', 'quintad...          10106.0  \n",
            "2  {'domain_name': ['NOMADFACTORY.COM', 'nomadfac...           8111.0  \n",
            "3  {'domain_name': ['TVARENASPORT.COM', 'tvarenas...           5542.0  \n",
            "4  {'domain_name': 'GROOVEHQ.COM', 'registrar': '...           5098.0  \n"
          ]
        }
      ]
    }
  ]
}